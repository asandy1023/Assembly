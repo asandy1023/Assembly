{
  "nbformat": 4,
  "nbformat_minor": 0,
  "metadata": {
    "colab": {
      "provenance": [],
      "gpuType": "T4",
      "include_colab_link": true
    },
    "kernelspec": {
      "name": "python3",
      "display_name": "Python 3"
    },
    "language_info": {
      "name": "python"
    },
    "accelerator": "GPU",
    "gpuClass": "standard"
  },
  "cells": [
    {
      "cell_type": "markdown",
      "metadata": {
        "id": "view-in-github",
        "colab_type": "text"
      },
      "source": [
        "<a href=\"https://colab.research.google.com/github/asandy1023/Assembly/blob/main/langchain_llama_cpp.ipynb\" target=\"_parent\"><img src=\"https://colab.research.google.com/assets/colab-badge.svg\" alt=\"Open In Colab\"/></a>"
      ]
    },
    {
      "cell_type": "code",
      "execution_count": null,
      "metadata": {
        "id": "Qn6tQoHpmNHP"
      },
      "outputs": [],
      "source": [
        "!pip install llama-cpp-python"
      ]
    },
    {
      "cell_type": "code",
      "source": [
        "!pip install numpy\n",
        "!pip install sentencepiece==0.1.98"
      ],
      "metadata": {
        "id": "dxz7hb5-mg_C"
      },
      "execution_count": null,
      "outputs": []
    },
    {
      "cell_type": "code",
      "source": [
        "!pip install langchain"
      ],
      "metadata": {
        "id": "bdTomDH2mg9M"
      },
      "execution_count": null,
      "outputs": []
    },
    {
      "cell_type": "code",
      "source": [
        "from langchain.llms import LlamaCpp\n",
        "from langchain import PromptTemplate, LLMChain\n",
        "from langchain.callbacks.manager import CallbackManager\n",
        "from langchain.callbacks.streaming_stdout import StreamingStdOutCallbackHandler"
      ],
      "metadata": {
        "id": "AQ56W6CDmg61"
      },
      "execution_count": null,
      "outputs": []
    },
    {
      "cell_type": "code",
      "source": [
        "template = \"\"\"Question: {question}\n",
        "\n",
        "Answer: Let's think step by step.\"\"\"\n",
        "\n",
        "prompt = PromptTemplate(template=template, input_variables=[\"question\"])"
      ],
      "metadata": {
        "id": "lNo7mPY4mg4w"
      },
      "execution_count": null,
      "outputs": []
    },
    {
      "cell_type": "code",
      "source": [
        "!git lfs install\n",
        "!git clone https://huggingface.co/hlhr202/llama-7B-ggml-int4"
      ],
      "metadata": {
        "id": "KjagZjgYmg1N"
      },
      "execution_count": null,
      "outputs": []
    },
    {
      "cell_type": "code",
      "source": [
        "# Callbacks support token-wise streaming\n",
        "callback_manager = CallbackManager([StreamingStdOutCallbackHandler()])\n",
        "# Verbose is required to pass to the callback manager\n",
        "\n",
        "# Make sure the model path is correct for your system!\n",
        "llm = LlamaCpp(\n",
        "    model_path=\"/content/llama-7B-ggml-int4/ggml-model-q4_0.bin\", callback_manager=callback_manager, verbose=True, n_ctx=1024\n",
        ")"
      ],
      "metadata": {
        "id": "rRf2WhmPmg3D"
      },
      "execution_count": null,
      "outputs": []
    },
    {
      "cell_type": "code",
      "source": [
        "llm_chain = LLMChain(prompt=prompt, llm=llm)"
      ],
      "metadata": {
        "id": "XSaTudWDmgzA"
      },
      "execution_count": null,
      "outputs": []
    },
    {
      "cell_type": "code",
      "source": [
        "question = \"What NFL team won the Super Bowl in the year Justin Bieber was born?\"\n",
        "\n",
        "llm_chain.run(question)"
      ],
      "metadata": {
        "id": "LpI_0G0SmgxQ"
      },
      "execution_count": null,
      "outputs": []
    },
    {
      "cell_type": "markdown",
      "source": [
        "# part 2"
      ],
      "metadata": {
        "id": "cl_MI0ZDGlz0"
      }
    },
    {
      "cell_type": "code",
      "source": [
        "from google.colab import drive\n",
        "drive.mount('/content/drive')"
      ],
      "metadata": {
        "id": "gPrC1zTPn5Cu"
      },
      "execution_count": null,
      "outputs": []
    },
    {
      "cell_type": "code",
      "source": [
        "!pip install chromadb\n",
        "!pip install sentence_transformers"
      ],
      "metadata": {
        "id": "SmuwYzexnrj4"
      },
      "execution_count": null,
      "outputs": []
    },
    {
      "cell_type": "code",
      "source": [
        "import openpyxl\n",
        "\n",
        "# 讀取Excel檔案\n",
        "workbook = openpyxl.load_workbook('/content/drive/Shareddrives/nnn/langchain/data/A1_new_客服審核 1-3.xlsx')\n",
        "\n",
        "## 選擇工作表\n",
        "worksheet = workbook.active\n",
        "\n",
        "# 創建一個空字串來存放結果\n",
        "result_max = ''\n",
        "result_min = ''\n",
        "result_list = []\n",
        "i_max = 0\n",
        "i_min =0\n",
        "# 遍歷每一行\n",
        "for row in worksheet.iter_rows(min_row=1, max_row=3, min_col=3, max_col=4):\n",
        "    # 取得C欄與D欄的值，並加入結果字串中\n",
        "    c_value = row[0].value if row[0].value else ''\n",
        "    d_value = row[1].value if row[1].value else ''\n",
        "\n",
        "    c_list = c_value.split(\"\\n\")\n",
        "    i_max = 0\n",
        "    for value in c_list:\n",
        "        if value !='':\n",
        "            result_max = f'{value}:{d_value}'\n",
        "            result_list.append(result_max)\n",
        "\n",
        "print(result_list)"
      ],
      "metadata": {
        "colab": {
          "base_uri": "https://localhost:8080/"
        },
        "id": "3ZwViWBKyjle",
        "outputId": "21e56739-42d3-4416-b42a-00bce1cdb1ff"
      },
      "execution_count": null,
      "outputs": [
        {
          "output_type": "stream",
          "name": "stdout",
          "text": [
            "['台灣大哥大職缺查詢:台灣大哥大列入「公司治理評鑑前5%績優公司」，菁英人才職缺招募:https://hrweb.taiwanmobile.com/TWMHRMS/forms/JobType.aspx，\\n對於程式開發/資料庫管理/雲端平台服務有興趣，HIPO疾行軍:https://hrweb.taiwanmobile.com/TWMHRMS/forms/hipo02.aspx\\n想成為最夯 APP 軟體工程師\\n攻城精英就業保證班立即報名:https://hrweb.taiwanmobile.com/TWMHRMS/forms/i\\n2023/2/17 23:59截止報名\\n2023/2/08 18:30線上說明會:https://www.accupass.com/event/2212290254311091217186\\n影像連結：https://hrweb.taiwanmobile.com/TWMHRMS/forms/welf01.aspx', 'HIPO疾行軍職缺跟培訓:台灣大哥大列入「公司治理評鑑前5%績優公司」，菁英人才職缺招募:https://hrweb.taiwanmobile.com/TWMHRMS/forms/JobType.aspx，\\n對於程式開發/資料庫管理/雲端平台服務有興趣，HIPO疾行軍:https://hrweb.taiwanmobile.com/TWMHRMS/forms/hipo02.aspx\\n想成為最夯 APP 軟體工程師\\n攻城精英就業保證班立即報名:https://hrweb.taiwanmobile.com/TWMHRMS/forms/i\\n2023/2/17 23:59截止報名\\n2023/2/08 18:30線上說明會:https://www.accupass.com/event/2212290254311091217186\\n影像連結：https://hrweb.taiwanmobile.com/TWMHRMS/forms/welf01.aspx', 'AppWorks School就業保證班:台灣大哥大列入「公司治理評鑑前5%績優公司」，菁英人才職缺招募:https://hrweb.taiwanmobile.com/TWMHRMS/forms/JobType.aspx，\\n對於程式開發/資料庫管理/雲端平台服務有興趣，HIPO疾行軍:https://hrweb.taiwanmobile.com/TWMHRMS/forms/hipo02.aspx\\n想成為最夯 APP 軟體工程師\\n攻城精英就業保證班立即報名:https://hrweb.taiwanmobile.com/TWMHRMS/forms/i\\n2023/2/17 23:59截止報名\\n2023/2/08 18:30線上說明會:https://www.accupass.com/event/2212290254311091217186\\n影像連結：https://hrweb.taiwanmobile.com/TWMHRMS/forms/welf01.aspx', '台灣大哥大 × AppWorks 加盟:台灣大哥大列入「公司治理評鑑前5%績優公司」，菁英人才職缺招募:https://hrweb.taiwanmobile.com/TWMHRMS/forms/JobType.aspx，\\n對於程式開發/資料庫管理/雲端平台服務有興趣，HIPO疾行軍:https://hrweb.taiwanmobile.com/TWMHRMS/forms/hipo02.aspx\\n想成為最夯 APP 軟體工程師\\n攻城精英就業保證班立即報名:https://hrweb.taiwanmobile.com/TWMHRMS/forms/i\\n2023/2/17 23:59截止報名\\n2023/2/08 18:30線上說明會:https://www.accupass.com/event/2212290254311091217186\\n影像連結：https://hrweb.taiwanmobile.com/TWMHRMS/forms/welf01.aspx', '客服人員職缺應徵/招募:台灣大哥大列入「公司治理評鑑前5%績優公司」，菁英人才職缺招募:https://hrweb.taiwanmobile.com/TWMHRMS/forms/JobType.aspx，\\n對於程式開發/資料庫管理/雲端平台服務有興趣，HIPO疾行軍:https://hrweb.taiwanmobile.com/TWMHRMS/forms/hipo02.aspx\\n想成為最夯 APP 軟體工程師\\n攻城精英就業保證班立即報名:https://hrweb.taiwanmobile.com/TWMHRMS/forms/i\\n2023/2/17 23:59截止報名\\n2023/2/08 18:30線上說明會:https://www.accupass.com/event/2212290254311091217186\\n影像連結：https://hrweb.taiwanmobile.com/TWMHRMS/forms/welf01.aspx', '專屬你們的歌創作:台灣大哥大品牌影片《向前走2019》，鼓勵年輕人，放膽改變，放大你的世界！由新一代的饒舌高材生熊仔用創新的台式搖滾，改編林強的《向前走》，鼓勵人們對未來滿懷希望。林強與熊仔橫越30年跨世代經典改編，賦予跨世代新的意義，並宣示台灣大已轉型成為新世代科技電信公司。\\n影片欣賞連結:\\nhttps://www.youtube.com/watch?v=EoA8ocCPqzE', '最近的影片演出者是誰:台灣大哥大品牌影片《向前走2019》，鼓勵年輕人，放膽改變，放大你的世界！由新一代的饒舌高材生熊仔用創新的台式搖滾，改編林強的《向前走》，鼓勵人們對未來滿懷希望。林強與熊仔橫越30年跨世代經典改編，賦予跨世代新的意義，並宣示台灣大已轉型成為新世代科技電信公司。\\n影片欣賞連結:\\nhttps://www.youtube.com/watch?v=EoA8ocCPqzE', '熊仔影片中的歌曲名稱:台灣大哥大品牌影片《向前走2019》，鼓勵年輕人，放膽改變，放大你的世界！由新一代的饒舌高材生熊仔用創新的台式搖滾，改編林強的《向前走》，鼓勵人們對未來滿懷希望。林強與熊仔橫越30年跨世代經典改編，賦予跨世代新的意義，並宣示台灣大已轉型成為新世代科技電信公司。\\n影片欣賞連結:\\nhttps://www.youtube.com/watch?v=EoA8ocCPqzE', '公司介紹簡介:台灣大哥大品牌影片《向前走2019》，鼓勵年輕人，放膽改變，放大你的世界！由新一代的饒舌高材生熊仔用創新的台式搖滾，改編林強的《向前走》，鼓勵人們對未來滿懷希望。林強與熊仔橫越30年跨世代經典改編，賦予跨世代新的意義，並宣示台灣大已轉型成為新世代科技電信公司。\\n影片欣賞連結:\\nhttps://www.youtube.com/watch?v=EoA8ocCPqzE', '觀看向前走影片方法說明:台灣大哥大品牌影片《向前走2019》，鼓勵年輕人，放膽改變，放大你的世界！由新一代的饒舌高材生熊仔用創新的台式搖滾，改編林強的《向前走》，鼓勵人們對未來滿懷希望。林強與熊仔橫越30年跨世代經典改編，賦予跨世代新的意義，並宣示台灣大已轉型成為新世代科技電信公司。\\n影片欣賞連結:\\nhttps://www.youtube.com/watch?v=EoA8ocCPqzE', '我想了解Disney+:申辦Disney+請留下資料:請提供方便聯絡的電話，專人會在上班時間第1個工作天內與您聯繫說明～上班時間：週一至週五 1000-1900，國定例假日休。限網內門號洽詢，未成年/外籍人士/公司戶須前往門市辦理哦！\\n另外當您提供個人相關資料，代表已知悉並同意本公司隱私權聲明內容。\\n隱私權聲明連結：https://www.taiwanmobile.com/footer/static-privacy.html?utm_source=twm_footer&utm_medium=footer&utm_campaign=privacy', '我想申請Disney+:申辦Disney+請留下資料:請提供方便聯絡的電話，專人會在上班時間第1個工作天內與您聯繫說明～上班時間：週一至週五 1000-1900，國定例假日休。限網內門號洽詢，未成年/外籍人士/公司戶須前往門市辦理哦！\\n另外當您提供個人相關資料，代表已知悉並同意本公司隱私權聲明內容。\\n隱私權聲明連結：https://www.taiwanmobile.com/footer/static-privacy.html?utm_source=twm_footer&utm_medium=footer&utm_campaign=privacy']\n"
          ]
        }
      ]
    },
    {
      "cell_type": "code",
      "source": [
        "result_list[11]"
      ],
      "metadata": {
        "colab": {
          "base_uri": "https://localhost:8080/",
          "height": 86
        },
        "id": "sOyYw1hWy34i",
        "outputId": "288986eb-5f89-4646-be00-9c39cb0093d3"
      },
      "execution_count": null,
      "outputs": [
        {
          "output_type": "execute_result",
          "data": {
            "text/plain": [
              "'我想申請Disney+:申辦Disney+請留下資料:請提供方便聯絡的電話，專人會在上班時間第1個工作天內與您聯繫說明～上班時間：週一至週五 1000-1900，國定例假日休。限網內門號洽詢，未成年/外籍人士/公司戶須前往門市辦理哦！\\n另外當您提供個人相關資料，代表已知悉並同意本公司隱私權聲明內容。\\n隱私權聲明連結：https://www.taiwanmobile.com/footer/static-privacy.html?utm_source=twm_footer&utm_medium=footer&utm_campaign=privacy'"
            ],
            "application/vnd.google.colaboratory.intrinsic+json": {
              "type": "string"
            }
          },
          "metadata": {},
          "execution_count": 81
        }
      ]
    },
    {
      "cell_type": "code",
      "source": [
        "len(result_list)"
      ],
      "metadata": {
        "colab": {
          "base_uri": "https://localhost:8080/"
        },
        "id": "pu7TG2zM1C8k",
        "outputId": "644eed52-7867-488a-a326-d0ee55a1e40d"
      },
      "execution_count": null,
      "outputs": [
        {
          "output_type": "execute_result",
          "data": {
            "text/plain": [
              "12"
            ]
          },
          "metadata": {},
          "execution_count": 63
        }
      ]
    },
    {
      "cell_type": "code",
      "source": [
        "ids=[]\n",
        "metadatas=[]\n",
        "for idx, x in enumerate(result_list):\n",
        "  ids.append(\"id\"+str(idx))\n",
        "  metadatas.append({\"source\": \"my_source\"})"
      ],
      "metadata": {
        "id": "dbjvRXnzzMXD"
      },
      "execution_count": null,
      "outputs": []
    },
    {
      "cell_type": "code",
      "source": [
        "ids"
      ],
      "metadata": {
        "id": "isH6MG9_zp3A"
      },
      "execution_count": null,
      "outputs": []
    },
    {
      "cell_type": "code",
      "source": [
        "metadatas"
      ],
      "metadata": {
        "id": "na8-hCnj0Ewc"
      },
      "execution_count": null,
      "outputs": []
    },
    {
      "cell_type": "code",
      "source": [
        "import chromadb\n",
        "chroma_client = chromadb.Client()\n",
        "\n",
        "collection = chroma_client.create_collection(name=\"my_collection\")\n",
        "collection.delete()\n",
        "collection.add(\n",
        "    documents=result_list,\n",
        "    metadatas=metadatas,\n",
        "    ids=ids\n",
        ")"
      ],
      "metadata": {
        "colab": {
          "base_uri": "https://localhost:8080/"
        },
        "id": "a4AC-fK2rM8d",
        "outputId": "db0e2f3e-b316-44f1-abf2-52a96cb60b8f"
      },
      "execution_count": null,
      "outputs": [
        {
          "output_type": "stream",
          "name": "stderr",
          "text": [
            "WARNING:chromadb:Using embedded DuckDB without persistence: data will be transient\n",
            "WARNING:chromadb.api.models.Collection:No embedding_function provided, using default embedding function: SentenceTransformerEmbeddingFunction\n"
          ]
        }
      ]
    },
    {
      "cell_type": "code",
      "source": [
        "results = collection.query(\n",
        "    query_texts=[\"申請Disney+\"],\n",
        "    n_results=1\n",
        ")"
      ],
      "metadata": {
        "id": "s2SxXSY7unW0"
      },
      "execution_count": null,
      "outputs": []
    },
    {
      "cell_type": "code",
      "source": [
        "results"
      ],
      "metadata": {
        "colab": {
          "base_uri": "https://localhost:8080/"
        },
        "id": "jw4utxjIvs-A",
        "outputId": "dd09cb44-9651-4db3-addc-f2eece3d8611"
      },
      "execution_count": null,
      "outputs": [
        {
          "output_type": "execute_result",
          "data": {
            "text/plain": [
              "{'ids': [['id10']],\n",
              " 'embeddings': None,\n",
              " 'documents': [['我想了解Disney+:申辦Disney+請留下資料:請提供方便聯絡的電話，專人會在上班時間第1個工作天內與您聯繫說明～上班時間：週一至週五 1000-1900，國定例假日休。限網內門號洽詢，未成年/外籍人士/公司戶須前往門市辦理哦！\\n另外當您提供個人相關資料，代表已知悉並同意本公司隱私權聲明內容。\\n隱私權聲明連結：https://www.taiwanmobile.com/footer/static-privacy.html?utm_source=twm_footer&utm_medium=footer&utm_campaign=privacy']],\n",
              " 'metadatas': [[{'source': 'my_source'}]],\n",
              " 'distances': [[1.0192179679870605]]}"
            ]
          },
          "metadata": {},
          "execution_count": 83
        }
      ]
    },
    {
      "cell_type": "markdown",
      "source": [
        "#3"
      ],
      "metadata": {
        "id": "08v7hEIc2IYm"
      }
    },
    {
      "cell_type": "code",
      "source": [
        "!git lfs install\n",
        "!git clone https://huggingface.co/hlhr202/llama-7B-ggml-int4 /content/drive/Shareddrives/nnn/langchain"
      ],
      "metadata": {
        "id": "0RV8WIban1Fr"
      },
      "execution_count": null,
      "outputs": []
    },
    {
      "cell_type": "code",
      "source": [
        "!pip install llama-cpp-python\n",
        "!pip install unstructured\n",
        "!pip install pytesseract\n",
        "!pip install numpy==1.24\n",
        "!pip install sentencepiece==0.1.98\n",
        "!pip install langchain"
      ],
      "metadata": {
        "id": "gPjMdRM0r2IO"
      },
      "execution_count": null,
      "outputs": []
    },
    {
      "cell_type": "code",
      "source": [
        "from langchain.llms import LlamaCpp\n",
        "from langchain import PromptTemplate, LLMChain\n",
        "from langchain.callbacks.manager import CallbackManager\n",
        "from langchain.callbacks.streaming_stdout import StreamingStdOutCallbackHandler"
      ],
      "metadata": {
        "id": "tiEdTDSjnwv-"
      },
      "execution_count": null,
      "outputs": []
    },
    {
      "cell_type": "code",
      "source": [
        "# Callbacks support token-wise streaming\n",
        "callback_manager = CallbackManager([StreamingStdOutCallbackHandler()])\n",
        "# Verbose is required to pass to the callback manager\n",
        "\n",
        "# Make sure the model path is correct for your system!\n",
        "llm = LlamaCpp(\n",
        "    model_path=\"/content/drive/Shareddrives/nnn/langchain/ggml-model-q4_0.bin\", \n",
        "    callback_manager=callback_manager, \n",
        "    verbose=True, \n",
        "    n_ctx=2048\n",
        ")"
      ],
      "metadata": {
        "colab": {
          "base_uri": "https://localhost:8080/"
        },
        "id": "TVsW1kCOoW9_",
        "outputId": "594eea2e-89c3-444e-95eb-89f0e53d60a7"
      },
      "execution_count": null,
      "outputs": [
        {
          "output_type": "stream",
          "name": "stderr",
          "text": [
            "AVX = 1 | AVX2 = 1 | AVX512 = 0 | AVX512_VBMI = 0 | AVX512_VNNI = 0 | FMA = 1 | NEON = 0 | ARM_FMA = 0 | F16C = 1 | FP16_VA = 0 | WASM_SIMD = 0 | BLAS = 0 | SSE3 = 1 | VSX = 0 | \n"
          ]
        }
      ]
    },
    {
      "cell_type": "code",
      "source": [
        "from langchain.embeddings.openai import OpenAIEmbeddings\n",
        "from langchain.vectorstores import Chroma\n",
        "from langchain.text_splitter import CharacterTextSplitter\n",
        "from langchain import OpenAI,VectorDBQA\n",
        "from langchain.document_loaders import DirectoryLoader\n",
        "from langchain.chains import RetrievalQA\n",
        "\n",
        "# 加载文件夹中的所有txt类型的文件\n",
        "loader = DirectoryLoader('/content/drive/Shareddrives/nnn/langchain/data', glob='**/*.txt')\n",
        "# 将数据转成 document 对象，每个文件会作为一个 document\n",
        "documents = loader.load()"
      ],
      "metadata": {
        "id": "zxUA6QB0mgva",
        "colab": {
          "base_uri": "https://localhost:8080/"
        },
        "outputId": "a0145722-5376-45fd-d0a6-69480086bd90"
      },
      "execution_count": null,
      "outputs": [
        {
          "output_type": "stream",
          "name": "stderr",
          "text": [
            "[nltk_data] Downloading package punkt to /root/nltk_data...\n",
            "[nltk_data]   Unzipping tokenizers/punkt.zip.\n",
            "[nltk_data] Downloading package averaged_perceptron_tagger to\n",
            "[nltk_data]     /root/nltk_data...\n",
            "[nltk_data]   Unzipping taggers/averaged_perceptron_tagger.zip.\n"
          ]
        }
      ]
    },
    {
      "cell_type": "code",
      "source": [
        "documents"
      ],
      "metadata": {
        "colab": {
          "base_uri": "https://localhost:8080/"
        },
        "id": "nCY-GxjAmgtk",
        "outputId": "498c2dc7-dabb-4c9e-911e-d916bd94c006"
      },
      "execution_count": null,
      "outputs": [
        {
          "output_type": "execute_result",
          "data": {
            "text/plain": [
              "[Document(page_content='台灣大哥大職缺查詢,HIPO疾行軍職缺跟培訓,AppWorks School ,台灣大哥大列入「公司治理評鑑前5%績優公司」，菁英人才職缺招募:https://hrweb.taiwanmobile.com/TWMHRMS/forms/JobType.aspx，\\n\\n對於程式開發/資料庫管理/雲端平台服務有興趣，HIPO疾行軍:https://hrweb.taiwanmobile.com/TWMHRMS/forms/hipo02.aspx\\n\\n想成為最夯 APP 軟體工程師攻城精英就業保證班立即報名:https://hrweb.taiwanmobile.com/TWMHRMS/forms/i2023/2/17 23:59截止報名\\n\\n2023/2/08 18:30線上說明會:https://www.accupass.com/event/2212290254311091217186 影像連結：https://hrweb.taiwanmobile.com/TWMHRMS/forms/welf01.aspx', metadata={'source': '/content/drive/Shareddrives/nnn/langchain/data/test2.txt'})]"
            ]
          },
          "metadata": {},
          "execution_count": 87
        }
      ]
    },
    {
      "cell_type": "code",
      "source": [
        "# 初始化加载器\n",
        "text_splitter = CharacterTextSplitter(chunk_size=500, chunk_overlap=0)\n",
        "# 切割加载的 document\n",
        "split_docs = text_splitter.split_documents(documents)"
      ],
      "metadata": {
        "id": "Yn9CmHbKmgrm"
      },
      "execution_count": null,
      "outputs": []
    },
    {
      "cell_type": "code",
      "source": [
        "split_docs"
      ],
      "metadata": {
        "colab": {
          "base_uri": "https://localhost:8080/"
        },
        "id": "mBLudgFmmgp4",
        "outputId": "05748f0d-d1ec-4e93-e634-57933a0136b2"
      },
      "execution_count": null,
      "outputs": [
        {
          "output_type": "execute_result",
          "data": {
            "text/plain": [
              "[Document(page_content='台灣大哥大職缺查詢,HIPO疾行軍職缺跟培訓,AppWorks School ,台灣大哥大列入「公司治理評鑑前5%績優公司」，菁英人才職缺招募:https://hrweb.taiwanmobile.com/TWMHRMS/forms/JobType.aspx，\\n\\n對於程式開發/資料庫管理/雲端平台服務有興趣，HIPO疾行軍:https://hrweb.taiwanmobile.com/TWMHRMS/forms/hipo02.aspx\\n\\n想成為最夯 APP 軟體工程師攻城精英就業保證班立即報名:https://hrweb.taiwanmobile.com/TWMHRMS/forms/i2023/2/17 23:59截止報名\\n\\n2023/2/08 18:30線上說明會:https://www.accupass.com/event/2212290254311091217186 影像連結：https://hrweb.taiwanmobile.com/TWMHRMS/forms/welf01.aspx', metadata={'source': '/content/drive/Shareddrives/nnn/langchain/data/test2.txt'})]"
            ]
          },
          "metadata": {},
          "execution_count": 91
        }
      ]
    },
    {
      "cell_type": "code",
      "source": [
        "from langchain.embeddings import LlamaCppEmbeddings\n",
        "llama = LlamaCppEmbeddings(model_path=\"/content/drive/Shareddrives/nnn/langchain/ggml-model-q4_0.bin\")"
      ],
      "metadata": {
        "colab": {
          "base_uri": "https://localhost:8080/"
        },
        "id": "hruioa-OmgoM",
        "outputId": "268b69c6-ecb2-41b5-bb81-df583220e338"
      },
      "execution_count": null,
      "outputs": [
        {
          "output_type": "stream",
          "name": "stderr",
          "text": [
            "AVX = 1 | AVX2 = 1 | AVX512 = 0 | AVX512_VBMI = 0 | AVX512_VNNI = 0 | FMA = 1 | NEON = 0 | ARM_FMA = 0 | F16C = 1 | FP16_VA = 0 | WASM_SIMD = 0 | BLAS = 0 | SSE3 = 1 | VSX = 0 | \n"
          ]
        }
      ]
    },
    {
      "cell_type": "code",
      "source": [
        "from langchain.vectorstores import Chroma\n",
        "# 初始化 openai 的 embeddings 对象\n",
        "#embeddings = OpenAIEmbeddings()\n",
        "# 将 document 通过 openai 的 embeddings 对象计算 embedding 向量信息并临时存入 Chroma 向量数据库，用于后续匹配查询\n",
        "docsearch = Chroma.from_documents(split_docs, llama)"
      ],
      "metadata": {
        "colab": {
          "base_uri": "https://localhost:8080/"
        },
        "id": "48MuCtobmgmE",
        "outputId": "4f6ffe6e-ffc3-4707-995a-fc0d9b55329c"
      },
      "execution_count": null,
      "outputs": [
        {
          "output_type": "stream",
          "name": "stderr",
          "text": [
            "WARNING:chromadb:Using embedded DuckDB without persistence: data will be transient\n"
          ]
        }
      ]
    },
    {
      "cell_type": "code",
      "source": [
        "docsearch"
      ],
      "metadata": {
        "colab": {
          "base_uri": "https://localhost:8080/"
        },
        "id": "3yPaQUja4C5P",
        "outputId": "5fe596ac-a1f0-4dc3-b9c8-66c3aa8b20a5"
      },
      "execution_count": null,
      "outputs": [
        {
          "output_type": "execute_result",
          "data": {
            "text/plain": [
              "<langchain.vectorstores.chroma.Chroma at 0x7ff2547ecc10>"
            ]
          },
          "metadata": {},
          "execution_count": 97
        }
      ]
    },
    {
      "cell_type": "code",
      "source": [
        "text = \"台灣大哥大職缺查詢\"\n",
        "\n",
        "query_result = llama.embed_query(text)\n",
        "\n",
        "doc_result = llama.embed_documents([text])"
      ],
      "metadata": {
        "id": "8W0_9jwN9nkS"
      },
      "execution_count": null,
      "outputs": []
    },
    {
      "cell_type": "code",
      "source": [
        "query_result"
      ],
      "metadata": {
        "id": "2UtlxQOo-PCU"
      },
      "execution_count": null,
      "outputs": []
    },
    {
      "cell_type": "code",
      "source": [
        "from langchain.chains import RetrievalQA\n",
        "# create qa target vector check embedding weight\n",
        "qa = VectorDBQA.from_chain_type(llm=llm, chain_type=\"stuff\", vectorstore=docsearch,return_source_documents=True)\n",
        "# start qa\n",
        "result = qa({\"query\": \"HIPO疾行軍職缺\"})\n",
        "print(result)"
      ],
      "metadata": {
        "id": "838r2V3GmgkG",
        "colab": {
          "base_uri": "https://localhost:8080/"
        },
        "outputId": "f362c49b-f588-495f-fda3-12f1593a76af"
      },
      "execution_count": null,
      "outputs": [
        {
          "output_type": "stream",
          "name": "stderr",
          "text": [
            "ERROR:langchain.vectorstores.chroma:Chroma collection langchain contains fewer than 4 elements.\n",
            "ERROR:langchain.vectorstores.chroma:Chroma collection langchain contains fewer than 3 elements.\n",
            "ERROR:langchain.vectorstores.chroma:Chroma collection langchain contains fewer than 2 elements.\n",
            "Llama.generate: prefix-match hit\n"
          ]
        }
      ]
    },
    {
      "cell_type": "code",
      "source": [
        "result = qa({\"query\": \"台灣大哥大職缺查詢\"})\n",
        "print(result)"
      ],
      "metadata": {
        "id": "R6CkfigbmgiP"
      },
      "execution_count": null,
      "outputs": []
    },
    {
      "cell_type": "code",
      "source": [],
      "metadata": {
        "id": "5QkdHri2mggR"
      },
      "execution_count": null,
      "outputs": []
    },
    {
      "cell_type": "code",
      "source": [],
      "metadata": {
        "id": "e_lDA-pqmgec"
      },
      "execution_count": null,
      "outputs": []
    },
    {
      "cell_type": "code",
      "source": [],
      "metadata": {
        "id": "07cQoBC0mgc2"
      },
      "execution_count": null,
      "outputs": []
    },
    {
      "cell_type": "code",
      "source": [],
      "metadata": {
        "id": "bGWvbruRmga_"
      },
      "execution_count": null,
      "outputs": []
    },
    {
      "cell_type": "code",
      "source": [],
      "metadata": {
        "id": "dk8JfU2PmgZJ"
      },
      "execution_count": null,
      "outputs": []
    },
    {
      "cell_type": "code",
      "source": [],
      "metadata": {
        "id": "kR5zG3xmmgXT"
      },
      "execution_count": null,
      "outputs": []
    },
    {
      "cell_type": "code",
      "source": [],
      "metadata": {
        "id": "bz1KC5I0mgV1"
      },
      "execution_count": null,
      "outputs": []
    },
    {
      "cell_type": "code",
      "source": [],
      "metadata": {
        "id": "ZXObz-RFmgT8"
      },
      "execution_count": null,
      "outputs": []
    },
    {
      "cell_type": "code",
      "source": [],
      "metadata": {
        "id": "MhwT_uGRmgNg"
      },
      "execution_count": null,
      "outputs": []
    },
    {
      "cell_type": "code",
      "source": [],
      "metadata": {
        "id": "3ZTH9VjYmgLp"
      },
      "execution_count": null,
      "outputs": []
    }
  ]
}